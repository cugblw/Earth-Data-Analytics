{
 "cells": [
  {
   "cell_type": "code",
   "execution_count": 2,
   "metadata": {},
   "outputs": [],
   "source": [
    "# Import necessary packages\n",
    "import os\n",
    "import rioxarray as rxr\n",
    "import earthpy as et\n",
    "\n",
    "# Get data and set working directory\n",
    "os.chdir('E:\\Coding\\Python\\Earth Data Analytics')"
   ]
  },
  {
   "cell_type": "code",
   "execution_count": 10,
   "metadata": {},
   "outputs": [
    {
     "data": {
      "text/plain": [
       "(472000.0, 4434000.0, 476000.0, 4436000.0)"
      ]
     },
     "execution_count": 10,
     "metadata": {},
     "output_type": "execute_result"
    }
   ],
   "source": [
    "# Define relative path to file\n",
    "lidar_dem_path = os.path.join(\"data\",\n",
    "                              \"colorado-flood\",\n",
    "                              \"spatial\",\n",
    "                              \"boulder-leehill-rd\",\n",
    "                              \"pre-flood\",\n",
    "                              \"lidar\",\n",
    "                              \"pre_DTM.tif\")\n",
    "\n",
    "pre_lidar_dem = rxr.open_rasterio(lidar_dem_path,\n",
    "                                 masked=True).squeeze()\n",
    "pre_lidar_dem.rio.bounds()"
   ]
  },
  {
   "cell_type": "code",
   "execution_count": 11,
   "metadata": {},
   "outputs": [
    {
     "name": "stdout",
     "output_type": "stream",
     "text": [
      "The crs of your data is: PROJCS[\"WGS_1984_UTM_zone_13N\",GEOGCS[\"WGS 84\",DATUM[\"WGS_1984\",SPHEROID[\"WGS 84\",6378137,298.257223563,AUTHORITY[\"EPSG\",\"7030\"]],AUTHORITY[\"EPSG\",\"6326\"]],PRIMEM[\"Greenwich\",0],UNIT[\"degree\",0.0174532925199433,AUTHORITY[\"EPSG\",\"9122\"]],AUTHORITY[\"EPSG\",\"4326\"]],PROJECTION[\"Transverse_Mercator\"],PARAMETER[\"latitude_of_origin\",0],PARAMETER[\"central_meridian\",-105],PARAMETER[\"scale_factor\",0.9996],PARAMETER[\"false_easting\",500000],PARAMETER[\"false_northing\",0],UNIT[\"metre\",1,AUTHORITY[\"EPSG\",\"9001\"]],AXIS[\"Easting\",EAST],AXIS[\"Northing\",NORTH],AUTHORITY[\"EPSG\",\"32613\"]]\n",
      "The nodatavalue of your data is: nan\n",
      "The shape of your data is: (2000, 4000)\n",
      "The spatial resolution for your data is: (1.0, -1.0)\n",
      "The metadata for your data is: {'scale_factor': 1.0, 'add_offset': 0.0}\n"
     ]
    }
   ],
   "source": [
    "# View generate metadata associated with the raster file\n",
    "print(\"The crs of your data is:\", pre_lidar_dem.rio.crs)\n",
    "print(\"The nodatavalue of your data is:\", pre_lidar_dem.rio.nodata)\n",
    "print(\"The shape of your data is:\", pre_lidar_dem.shape)\n",
    "print(\"The spatial resolution for your data is:\", pre_lidar_dem.rio.resolution())\n",
    "print(\"The metadata for your data is:\", pre_lidar_dem.attrs)"
   ]
  },
  {
   "cell_type": "code",
   "execution_count": 12,
   "metadata": {},
   "outputs": [
    {
     "data": {
      "text/plain": [
       "(1.0, -1.0)"
      ]
     },
     "execution_count": 12,
     "metadata": {},
     "output_type": "execute_result"
    }
   ],
   "source": [
    "# What is the spatial resolution?\n",
    "pre_lidar_dem.rio.resolution()"
   ]
  },
  {
   "cell_type": "code",
   "execution_count": 13,
   "metadata": {},
   "outputs": [
    {
     "name": "stdout",
     "output_type": "stream",
     "text": [
      "The CRS of this data is:  PROJCS[\"WGS_1984_UTM_zone_13N\",GEOGCS[\"WGS 84\",DATUM[\"WGS_1984\",SPHEROID[\"WGS 84\",6378137,298.257223563,AUTHORITY[\"EPSG\",\"7030\"]],AUTHORITY[\"EPSG\",\"6326\"]],PRIMEM[\"Greenwich\",0],UNIT[\"degree\",0.0174532925199433,AUTHORITY[\"EPSG\",\"9122\"]],AUTHORITY[\"EPSG\",\"4326\"]],PROJECTION[\"Transverse_Mercator\"],PARAMETER[\"latitude_of_origin\",0],PARAMETER[\"central_meridian\",-105],PARAMETER[\"scale_factor\",0.9996],PARAMETER[\"false_easting\",500000],PARAMETER[\"false_northing\",0],UNIT[\"metre\",1,AUTHORITY[\"EPSG\",\"9001\"]],AXIS[\"Easting\",EAST],AXIS[\"Northing\",NORTH],AUTHORITY[\"EPSG\",\"32613\"]]\n",
      "The spatial extent of this data is:  (472000.0, 4434000.0, 476000.0, 4436000.0)\n"
     ]
    }
   ],
   "source": [
    "print(\"The CRS of this data is: \", pre_lidar_dem.rio.crs)\n",
    "print(\"The spatial extent of this data is: \",pre_lidar_dem.rio.bounds())"
   ]
  },
  {
   "cell_type": "code",
   "execution_count": 15,
   "metadata": {},
   "outputs": [],
   "source": [
    "# Define relative path to file\n",
    "lidar_dsm_path = os.path.join(\"Data\",\n",
    "                              \"colorado-flood\", \n",
    "                              \"spatial\",\n",
    "                              \"boulder-leehill-rd\", \n",
    "                              \"pre-flood\", \n",
    "                              \"lidar\",\n",
    "                              \"pre_DSM.tif\")\n",
    "\n",
    "# Open lidar dsm\n",
    "pre_lidar_dsm = rxr.open_rasterio(lidar_dsm_path)"
   ]
  },
  {
   "cell_type": "code",
   "execution_count": 16,
   "metadata": {},
   "outputs": [
    {
     "name": "stdout",
     "output_type": "stream",
     "text": [
      "Both datasets cover the same spatial extent.\n"
     ]
    }
   ],
   "source": [
    "if pre_lidar_dem.rio.bounds() == pre_lidar_dsm.rio.bounds():\n",
    "    print(\"Both datasets cover the same spatial extent.\")"
   ]
  },
  {
   "cell_type": "code",
   "execution_count": 17,
   "metadata": {},
   "outputs": [
    {
     "data": {
      "text/plain": [
       "True"
      ]
     },
     "execution_count": 17,
     "metadata": {},
     "output_type": "execute_result"
    }
   ],
   "source": [
    "# Do both layers have the same spatial resolution?\n",
    "pre_lidar_dem.rio.resolution() == pre_lidar_dsm.rio.resolution()"
   ]
  },
  {
   "cell_type": "code",
   "execution_count": 18,
   "metadata": {},
   "outputs": [
    {
     "data": {
      "text/plain": [
       "CRS.from_wkt('PROJCS[\"WGS_1984_UTM_zone_13N\",GEOGCS[\"WGS 84\",DATUM[\"WGS_1984\",SPHEROID[\"WGS 84\",6378137,298.257223563,AUTHORITY[\"EPSG\",\"7030\"]],AUTHORITY[\"EPSG\",\"6326\"]],PRIMEM[\"Greenwich\",0],UNIT[\"degree\",0.0174532925199433,AUTHORITY[\"EPSG\",\"9122\"]],AUTHORITY[\"EPSG\",\"4326\"]],PROJECTION[\"Transverse_Mercator\"],PARAMETER[\"latitude_of_origin\",0],PARAMETER[\"central_meridian\",-105],PARAMETER[\"scale_factor\",0.9996],PARAMETER[\"false_easting\",500000],PARAMETER[\"false_northing\",0],UNIT[\"metre\",1,AUTHORITY[\"EPSG\",\"9001\"]],AXIS[\"Easting\",EAST],AXIS[\"Northing\",NORTH],AUTHORITY[\"EPSG\",\"32613\"]]')"
      ]
     },
     "execution_count": 18,
     "metadata": {},
     "output_type": "execute_result"
    }
   ],
   "source": [
    "# Get crs of a crs object\n",
    "pre_lidar_dem.rio.crs"
   ]
  },
  {
   "cell_type": "code",
   "execution_count": 19,
   "metadata": {},
   "outputs": [
    {
     "data": {
      "text/plain": [
       "'+proj=utm +zone=13 +datum=WGS84 +units=m +no_defs'"
      ]
     },
     "execution_count": 19,
     "metadata": {},
     "output_type": "execute_result"
    }
   ],
   "source": [
    "et.epsg['32613']"
   ]
  },
  {
   "cell_type": "code",
   "execution_count": 20,
   "metadata": {},
   "outputs": [
    {
     "name": "stdout",
     "output_type": "stream",
     "text": [
      "(2000, 4000)\n"
     ]
    }
   ],
   "source": [
    "print(pre_lidar_dem.shape)"
   ]
  }
 ],
 "metadata": {
  "interpreter": {
   "hash": "62717988da3a1748178a99c6c0a6b3a99819a78a32e9666064d8381545836fe7"
  },
  "kernelspec": {
   "display_name": "Python 3.8.7 64-bit",
   "name": "python3"
  },
  "language_info": {
   "codemirror_mode": {
    "name": "ipython",
    "version": 3
   },
   "file_extension": ".py",
   "mimetype": "text/x-python",
   "name": "python",
   "nbconvert_exporter": "python",
   "pygments_lexer": "ipython3",
   "version": "3.8.7"
  },
  "orig_nbformat": 4
 },
 "nbformat": 4,
 "nbformat_minor": 2
}
